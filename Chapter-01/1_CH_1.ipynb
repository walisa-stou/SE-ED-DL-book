{
  "nbformat": 4,
  "nbformat_minor": 0,
  "metadata": {
    "colab": {
      "provenance": []
    },
    "kernelspec": {
      "name": "python3",
      "display_name": "Python 3"
    },
    "language_info": {
      "name": "python"
    }
  },
  "cells": [
    {
      "cell_type": "markdown",
      "source": [
        "**Verify GPU usage with TensorFlow**"
      ],
      "metadata": {
        "id": "aZzuXB0nu2V8"
      }
    },
    {
      "cell_type": "code",
      "execution_count": null,
      "metadata": {
        "id": "IEIhp4hNqn0i",
        "colab": {
          "base_uri": "https://localhost:8080/"
        },
        "outputId": "ada5f280-a866-4649-f6c2-8e1162967689"
      },
      "outputs": [
        {
          "output_type": "stream",
          "name": "stdout",
          "text": [
            "Found GPU at: /device:GPU:0\n"
          ]
        }
      ],
      "source": [
        "import tensorflow as tf\n",
        "device_name = tf.test.gpu_device_name()\n",
        "if device_name != '/device:GPU:0':\n",
        "    print('GPU device not found')\n",
        "else:\n",
        "    print(f'Found GPU at: {device_name}')\n"
      ]
    },
    {
      "cell_type": "markdown",
      "source": [
        "**Verify GPU usage with PyTorch**"
      ],
      "metadata": {
        "id": "L_GnCXLPvFpp"
      }
    },
    {
      "cell_type": "code",
      "source": [
        "import torch\n",
        "if torch.cuda.is_available():\n",
        "    print(f\"CUDA is available. Device name: {torch.cuda.get_device_name(0)}\")\n",
        "else:\n",
        "    print(\"CUDA is not available. Using CPU.\")\n"
      ],
      "metadata": {
        "colab": {
          "base_uri": "https://localhost:8080/"
        },
        "id": "PrjrPuieu9AP",
        "outputId": "a057c015-889f-452a-ecf7-6398b13eed93"
      },
      "execution_count": null,
      "outputs": [
        {
          "output_type": "stream",
          "name": "stdout",
          "text": [
            "CUDA is available. Device name: Tesla T4\n"
          ]
        }
      ]
    },
    {
      "cell_type": "markdown",
      "source": [
        "**วิธีการ mount Google Drive บน Google Colab**"
      ],
      "metadata": {
        "id": "LuQ46A-m60Wd"
      }
    },
    {
      "cell_type": "code",
      "source": [
        "from google.colab import drive\n",
        "drive.mount('/content/drive')"
      ],
      "metadata": {
        "colab": {
          "base_uri": "https://localhost:8080/"
        },
        "id": "M9och3JV3iR3",
        "outputId": "f3de0749-4c05-4217-d7eb-0fbc8d1ed0d0"
      },
      "execution_count": null,
      "outputs": [
        {
          "output_type": "stream",
          "name": "stdout",
          "text": [
            "Drive already mounted at /content/drive; to attempt to forcibly remount, call drive.mount(\"/content/drive\", force_remount=True).\n"
          ]
        }
      ]
    },
    {
      "cell_type": "code",
      "source": [
        "dataset_path = '/content/drive/My Drive/Bank/customers.csv'\n",
        "import pandas as pd\n",
        "mydata = pd.read_csv(dataset_path)\n",
        "print(mydata.head())\n"
      ],
      "metadata": {
        "id": "ACjYKyyzHNFM"
      },
      "execution_count": null,
      "outputs": []
    },
    {
      "cell_type": "markdown",
      "source": [
        "**วิธีการเรียกใช้ชุดข้อมูลผ่าน API**"
      ],
      "metadata": {
        "id": "KwxIdsu4HW5P"
      }
    },
    {
      "cell_type": "code",
      "source": [
        "import requests\n",
        "url = 'https://api.example.com/get-dataset'\n",
        "response = requests.get(url)\n",
        "mydata = response.json()\n",
        "print(mydata)"
      ],
      "metadata": {
        "id": "11NtGKXeHcau"
      },
      "execution_count": null,
      "outputs": []
    }
  ]
}